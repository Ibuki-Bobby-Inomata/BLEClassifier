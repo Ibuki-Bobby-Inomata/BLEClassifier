{
 "cells": [
  {
   "cell_type": "code",
   "execution_count": 1,
   "metadata": {},
   "outputs": [
    {
     "name": "stderr",
     "output_type": "stream",
     "text": [
      "Using TensorFlow backend.\n"
     ]
    }
   ],
   "source": [
    "import warnings\n",
    "warnings.simplefilter('ignore')\n",
    "\n",
    "import tensorflow as tf\n",
    "import keras\n",
    "import numpy as np\n",
    "import pandas as pd\n",
    "import matplotlib.pyplot as plt\n",
    "import os as os\n",
    "import seaborn as sn\n",
    "\n",
    "from sklearn.metrics import f1_score\n",
    "from keras.callbacks import Callback\n",
    "from sklearn.preprocessing import MinMaxScaler\n",
    "from sklearn.metrics import accuracy_score as accuracy\n",
    "from sklearn.model_selection import train_test_split\n",
    "from sklearn.metrics import confusion_matrix\n",
    "\n",
    "from keras import models\n",
    "from keras import layers\n",
    "from keras.optimizers import Adam\n",
    "from keras.optimizers import RMSprop\n",
    "from keras.layers import Activation, Dense\n",
    "from keras.models import Sequential, Sequential\n",
    "from keras.preprocessing import sequence\n",
    "from keras import metrics\n",
    "import keras.backend as K"
   ]
  },
  {
   "cell_type": "code",
   "execution_count": 2,
   "metadata": {},
   "outputs": [],
   "source": [
    "def creat_dataset(read_data, window_size):\n",
    "    #データの読み込み、plot関数\n",
    "    def create_values(read_data):\n",
    "        #データの読み込み\n",
    "        data = pd.read_csv(read_data, sep=',')\n",
    "        \n",
    "        #データのrssi、metreをそれぞれx、yとして定義\n",
    "        x = data.rssi\n",
    "        y = data.label\n",
    "        \n",
    "        return x, y\n",
    "    \n",
    "    def get_label_name(labels):\n",
    "        for i in range(len(labels)):\n",
    "            if labels == 'far': \n",
    "                label = 0\n",
    "            elif labels == 'near': \n",
    "                label = 1\n",
    "            elif labels == 'leave':\n",
    "                label = 2\n",
    "            elif labels == 'approach':\n",
    "                label = 3\n",
    "            else:\n",
    "                label = 4\n",
    "        return label\n",
    "    \n",
    "    list_X, list_Y = create_values(read_data)\n",
    "    \n",
    "    #Xを正の値に直して正規化\n",
    "    min_ = 40\n",
    "    max_ = 120\n",
    "    list_X = (abs(list_X) -  min_)/ (max_ - min_)\n",
    "    \n",
    "    list_metre = []  #labelのlist\n",
    "    list_rssi = []   #rssiのlist\n",
    "\n",
    "    #list_Xをwindow_sizeごとにサンプリング\n",
    "    for i in range(0, len(list_X) - window_size, 1):\n",
    "        list_rssi.append(list_X[i:i+window_size].values)\n",
    "    \n",
    "    #list_Yをwindow_sizeごとにサンプリング\n",
    "    for i in range(0, len(list_Y) - window_size, 1):\n",
    "        list_metre.append(get_label_name(list_Y[i+window_size]))\n",
    "        \n",
    "    data = np.array(list_rssi)\n",
    "    label = np.array(list_metre)\n",
    "    \n",
    "    data = data.reshape(len(data), window_size, 1, 1)\n",
    "    label = label.reshape(len(label), 1)\n",
    "    \n",
    "    return data, label"
   ]
  },
  {
   "cell_type": "code",
   "execution_count": 3,
   "metadata": {},
   "outputs": [],
   "source": [
    "window = 35\n",
    "train_x, train_y = creat_dataset(\"../data/data_0\", window)\n",
    "test_x, test_y = creat_dataset(\"../data/data_1\", window)\n",
    "val_x, val_y = creat_dataset(\"../data/data_2\", window)"
   ]
  },
  {
   "cell_type": "code",
   "execution_count": 18,
   "metadata": {},
   "outputs": [
    {
     "name": "stdout",
     "output_type": "stream",
     "text": [
      "Model: \"sequential_2\"\n",
      "_________________________________________________________________\n",
      "Layer (type)                 Output Shape              Param #   \n",
      "=================================================================\n",
      "dense_9 (Dense)              (None, 160)               5760      \n",
      "_________________________________________________________________\n",
      "dense_10 (Dense)             (None, 120)               19320     \n",
      "_________________________________________________________________\n",
      "dense_11 (Dense)             (None, 80)                9680      \n",
      "_________________________________________________________________\n",
      "dense_12 (Dense)             (None, 40)                3240      \n",
      "_________________________________________________________________\n",
      "dense_13 (Dense)             (None, 4)                 164       \n",
      "=================================================================\n",
      "Total params: 38,164\n",
      "Trainable params: 38,164\n",
      "Non-trainable params: 0\n",
      "_________________________________________________________________\n"
     ]
    }
   ],
   "source": [
    "model = tf.keras.models.Sequential()\n",
    "model.add(tf.keras.layers.Dense(units=160, activation='relu', input_dim=35))\n",
    "model.add(tf.keras.layers.Dense(units=120, activation='relu'))\n",
    "model.add(tf.keras.layers.Dense(units=80, activation='relu'))\n",
    "model.add(tf.keras.layers.Dense(units=40, activation='relu'))\n",
    "model.add(tf.keras.layers.Dense(units=4, activation='softmax'))\n",
    "\n",
    "model.summary()"
   ]
  },
  {
   "cell_type": "code",
   "execution_count": 12,
   "metadata": {},
   "outputs": [
    {
     "name": "stdout",
     "output_type": "stream",
     "text": [
      "Model: \"sequential_1\"\n",
      "_________________________________________________________________\n",
      "Layer (type)                 Output Shape              Param #   \n",
      "=================================================================\n",
      "dense_5 (Dense)              (None, 30)                1080      \n",
      "_________________________________________________________________\n",
      "dense_6 (Dense)              (None, 20)                620       \n",
      "_________________________________________________________________\n",
      "dense_7 (Dense)              (None, 10)                210       \n",
      "_________________________________________________________________\n",
      "dense_8 (Dense)              (None, 40)                440       \n",
      "=================================================================\n",
      "Total params: 2,350\n",
      "Trainable params: 2,350\n",
      "Non-trainable params: 0\n",
      "_________________________________________________________________\n"
     ]
    }
   ],
   "source": [
    "model = tf.keras.models.Sequential()\n",
    "model.add(tf.keras.layers.Dense(units=30, activation='relu', input_dim=35))\n",
    "model.add(tf.keras.layers.Dense(units=20, activation='relu'))\n",
    "model.add(tf.keras.layers.Dense(units=10, activation='relu'))\n",
    "model.add(tf.keras.layers.Dense(units=40, activation='relu'))\n",
    "# model.add(tf.keras.layers.Dense(units=4, activation='softmax'))\n",
    "\n",
    "model.summary()"
   ]
  },
  {
   "cell_type": "code",
   "execution_count": 19,
   "metadata": {},
   "outputs": [],
   "source": [
    "model.compile(loss='sparse_categorical_crossentropy', \n",
    "                      optimizer='adam', \n",
    "                      metrics=['accuracy'])"
   ]
  },
  {
   "cell_type": "code",
   "execution_count": 20,
   "metadata": {
    "collapsed": true,
    "jupyter": {
     "outputs_hidden": true
    }
   },
   "outputs": [
    {
     "name": "stdout",
     "output_type": "stream",
     "text": [
      "Train on 2546 samples, validate on 2455 samples\n",
      "Epoch 1/100\n",
      "2546/2546 [==============================] - 1s 459us/sample - loss: 1.2794 - accuracy: 0.3515 - val_loss: 1.1248 - val_accuracy: 0.4790\n",
      "Epoch 2/100\n",
      "2546/2546 [==============================] - 0s 89us/sample - loss: 1.0340 - accuracy: 0.5511 - val_loss: 0.9123 - val_accuracy: 0.6428\n",
      "Epoch 3/100\n",
      "2546/2546 [==============================] - 0s 66us/sample - loss: 0.8039 - accuracy: 0.7333 - val_loss: 0.7656 - val_accuracy: 0.6415\n",
      "Epoch 4/100\n",
      "2546/2546 [==============================] - 0s 83us/sample - loss: 0.6387 - accuracy: 0.7698 - val_loss: 0.6651 - val_accuracy: 0.7271\n",
      "Epoch 5/100\n",
      "2546/2546 [==============================] - 0s 80us/sample - loss: 0.5438 - accuracy: 0.8016 - val_loss: 0.8011 - val_accuracy: 0.6212\n",
      "Epoch 6/100\n",
      "2546/2546 [==============================] - 0s 58us/sample - loss: 0.4846 - accuracy: 0.8174 - val_loss: 0.5697 - val_accuracy: 0.7658\n",
      "Epoch 7/100\n",
      "2546/2546 [==============================] - 0s 60us/sample - loss: 0.4846 - accuracy: 0.8048 - val_loss: 0.6267 - val_accuracy: 0.7010\n",
      "Epoch 8/100\n",
      "2546/2546 [==============================] - 0s 59us/sample - loss: 0.4393 - accuracy: 0.8307 - val_loss: 0.5109 - val_accuracy: 0.8049\n",
      "Epoch 9/100\n",
      "2546/2546 [==============================] - 0s 50us/sample - loss: 0.4314 - accuracy: 0.8256 - val_loss: 0.6174 - val_accuracy: 0.7401\n",
      "Epoch 10/100\n",
      "2546/2546 [==============================] - 0s 55us/sample - loss: 0.4366 - accuracy: 0.8342 - val_loss: 0.7898 - val_accuracy: 0.6464\n",
      "Epoch 11/100\n",
      "2546/2546 [==============================] - 0s 53us/sample - loss: 0.4172 - accuracy: 0.8350 - val_loss: 0.5389 - val_accuracy: 0.7601\n",
      "Epoch 12/100\n",
      "2546/2546 [==============================] - 0s 49us/sample - loss: 0.3861 - accuracy: 0.8492 - val_loss: 0.4870 - val_accuracy: 0.8045\n",
      "Epoch 13/100\n",
      "2546/2546 [==============================] - 0s 65us/sample - loss: 0.3997 - accuracy: 0.8397 - val_loss: 0.4891 - val_accuracy: 0.8069\n",
      "Epoch 14/100\n",
      "2546/2546 [==============================] - 0s 66us/sample - loss: 0.4256 - accuracy: 0.8189 - val_loss: 0.6741 - val_accuracy: 0.6937\n",
      "Epoch 15/100\n",
      "2546/2546 [==============================] - 0s 103us/sample - loss: 0.3807 - accuracy: 0.8496 - val_loss: 0.4732 - val_accuracy: 0.8077\n",
      "Epoch 16/100\n",
      "2546/2546 [==============================] - 0s 53us/sample - loss: 0.3814 - accuracy: 0.8476 - val_loss: 0.5382 - val_accuracy: 0.7658\n",
      "Epoch 17/100\n",
      "2546/2546 [==============================] - 0s 51us/sample - loss: 0.3745 - accuracy: 0.8562 - val_loss: 0.6099 - val_accuracy: 0.7621\n",
      "Epoch 18/100\n",
      "2546/2546 [==============================] - 0s 51us/sample - loss: 0.3683 - accuracy: 0.8566 - val_loss: 0.5749 - val_accuracy: 0.7654\n",
      "Epoch 19/100\n",
      "2546/2546 [==============================] - 0s 48us/sample - loss: 0.3830 - accuracy: 0.8504 - val_loss: 0.6543 - val_accuracy: 0.7238\n",
      "Epoch 20/100\n",
      "2546/2546 [==============================] - 0s 49us/sample - loss: 0.3921 - accuracy: 0.8397 - val_loss: 0.5081 - val_accuracy: 0.7947\n",
      "Epoch 21/100\n",
      "2546/2546 [==============================] - 0s 69us/sample - loss: 0.3595 - accuracy: 0.8614 - val_loss: 0.4971 - val_accuracy: 0.7862\n",
      "Epoch 22/100\n",
      "2546/2546 [==============================] - 0s 80us/sample - loss: 0.3486 - accuracy: 0.8614 - val_loss: 0.4637 - val_accuracy: 0.8110\n",
      "Epoch 23/100\n",
      "2546/2546 [==============================] - 0s 91us/sample - loss: 0.3630 - accuracy: 0.8594 - val_loss: 0.5889 - val_accuracy: 0.7348\n",
      "Epoch 24/100\n",
      "2546/2546 [==============================] - 0s 50us/sample - loss: 0.3628 - accuracy: 0.8570 - val_loss: 0.4852 - val_accuracy: 0.7947\n",
      "Epoch 25/100\n",
      "2546/2546 [==============================] - 0s 52us/sample - loss: 0.3494 - accuracy: 0.8657 - val_loss: 0.4900 - val_accuracy: 0.7906\n",
      "Epoch 26/100\n",
      "2546/2546 [==============================] - 0s 47us/sample - loss: 0.3395 - accuracy: 0.8696 - val_loss: 0.4644 - val_accuracy: 0.8151\n",
      "Epoch 27/100\n",
      "2546/2546 [==============================] - 0s 46us/sample - loss: 0.3576 - accuracy: 0.8606 - val_loss: 0.5016 - val_accuracy: 0.8057\n",
      "Epoch 28/100\n",
      "2546/2546 [==============================] - 0s 43us/sample - loss: 0.3479 - accuracy: 0.8696 - val_loss: 0.6421 - val_accuracy: 0.7556\n",
      "Epoch 29/100\n",
      "2546/2546 [==============================] - 0s 45us/sample - loss: 0.3392 - accuracy: 0.8629 - val_loss: 0.5368 - val_accuracy: 0.7735\n",
      "Epoch 30/100\n",
      "2546/2546 [==============================] - 0s 47us/sample - loss: 0.3528 - accuracy: 0.8625 - val_loss: 0.6368 - val_accuracy: 0.7365\n",
      "Epoch 31/100\n",
      "2546/2546 [==============================] - 0s 44us/sample - loss: 0.3502 - accuracy: 0.8665 - val_loss: 0.5263 - val_accuracy: 0.7788\n",
      "Epoch 32/100\n",
      "2546/2546 [==============================] - 0s 69us/sample - loss: 0.3299 - accuracy: 0.8731 - val_loss: 0.4804 - val_accuracy: 0.8061\n",
      "Epoch 33/100\n",
      "2546/2546 [==============================] - 0s 91us/sample - loss: 0.3217 - accuracy: 0.8763 - val_loss: 0.4867 - val_accuracy: 0.8094\n",
      "Epoch 34/100\n",
      "2546/2546 [==============================] - 0s 53us/sample - loss: 0.3299 - accuracy: 0.8739 - val_loss: 0.5550 - val_accuracy: 0.7772\n",
      "Epoch 35/100\n",
      "2546/2546 [==============================] - 0s 64us/sample - loss: 0.3384 - accuracy: 0.8688 - val_loss: 0.5902 - val_accuracy: 0.7707\n",
      "Epoch 36/100\n",
      "2546/2546 [==============================] - 0s 58us/sample - loss: 0.3284 - accuracy: 0.8763 - val_loss: 0.4809 - val_accuracy: 0.8126\n",
      "Epoch 37/100\n",
      "2546/2546 [==============================] - 0s 66us/sample - loss: 0.3163 - accuracy: 0.8822 - val_loss: 0.5390 - val_accuracy: 0.7756\n",
      "Epoch 38/100\n",
      "2546/2546 [==============================] - 0s 51us/sample - loss: 0.3226 - accuracy: 0.8798 - val_loss: 0.5567 - val_accuracy: 0.7817\n",
      "Epoch 39/100\n",
      "2546/2546 [==============================] - 0s 46us/sample - loss: 0.3217 - accuracy: 0.8775 - val_loss: 0.5224 - val_accuracy: 0.7857\n",
      "Epoch 40/100\n",
      "2546/2546 [==============================] - 0s 45us/sample - loss: 0.3087 - accuracy: 0.8837 - val_loss: 0.4897 - val_accuracy: 0.7988\n",
      "Epoch 41/100\n",
      "2546/2546 [==============================] - 0s 44us/sample - loss: 0.3413 - accuracy: 0.8676 - val_loss: 0.4904 - val_accuracy: 0.7992\n",
      "Epoch 42/100\n",
      "2546/2546 [==============================] - 0s 43us/sample - loss: 0.3118 - accuracy: 0.8775 - val_loss: 0.5121 - val_accuracy: 0.7967\n",
      "Epoch 43/100\n",
      "2546/2546 [==============================] - 0s 51us/sample - loss: 0.3113 - accuracy: 0.8818 - val_loss: 0.4398 - val_accuracy: 0.8151\n",
      "Epoch 44/100\n",
      "2546/2546 [==============================] - 0s 59us/sample - loss: 0.3279 - accuracy: 0.8751 - val_loss: 0.5081 - val_accuracy: 0.7870\n",
      "Epoch 45/100\n",
      "2546/2546 [==============================] - 0s 54us/sample - loss: 0.3122 - accuracy: 0.8810 - val_loss: 0.5172 - val_accuracy: 0.7992\n",
      "Epoch 46/100\n",
      "2546/2546 [==============================] - 0s 47us/sample - loss: 0.3168 - accuracy: 0.8747 - val_loss: 0.5771 - val_accuracy: 0.7633\n",
      "Epoch 47/100\n",
      "2546/2546 [==============================] - 0s 45us/sample - loss: 0.3267 - accuracy: 0.8751 - val_loss: 0.4965 - val_accuracy: 0.8024\n",
      "Epoch 48/100\n",
      "2546/2546 [==============================] - 0s 48us/sample - loss: 0.3211 - accuracy: 0.8751 - val_loss: 0.5094 - val_accuracy: 0.8000\n",
      "Epoch 49/100\n",
      "2546/2546 [==============================] - 0s 50us/sample - loss: 0.2947 - accuracy: 0.8877 - val_loss: 0.4393 - val_accuracy: 0.8191\n",
      "Epoch 50/100\n",
      "2546/2546 [==============================] - 0s 46us/sample - loss: 0.3172 - accuracy: 0.8806 - val_loss: 0.4408 - val_accuracy: 0.8155\n",
      "Epoch 51/100\n",
      "2546/2546 [==============================] - 0s 48us/sample - loss: 0.3142 - accuracy: 0.8755 - val_loss: 0.5822 - val_accuracy: 0.7666\n",
      "Epoch 52/100\n",
      "2546/2546 [==============================] - 0s 48us/sample - loss: 0.3273 - accuracy: 0.8708 - val_loss: 0.4921 - val_accuracy: 0.8037\n",
      "Epoch 53/100\n",
      "2546/2546 [==============================] - 0s 48us/sample - loss: 0.3004 - accuracy: 0.8837 - val_loss: 0.4822 - val_accuracy: 0.8159\n",
      "Epoch 54/100\n",
      "2546/2546 [==============================] - 0s 51us/sample - loss: 0.2996 - accuracy: 0.8853 - val_loss: 0.4928 - val_accuracy: 0.8102\n",
      "Epoch 55/100\n",
      "2546/2546 [==============================] - 0s 59us/sample - loss: 0.3116 - accuracy: 0.8826 - val_loss: 0.5418 - val_accuracy: 0.7853\n",
      "Epoch 56/100\n",
      "2546/2546 [==============================] - 0s 95us/sample - loss: 0.3108 - accuracy: 0.8802 - val_loss: 0.4648 - val_accuracy: 0.8159\n",
      "Epoch 57/100\n",
      "2546/2546 [==============================] - 0s 58us/sample - loss: 0.3379 - accuracy: 0.8763 - val_loss: 0.4660 - val_accuracy: 0.8041\n",
      "Epoch 58/100\n",
      "2546/2546 [==============================] - 0s 53us/sample - loss: 0.3183 - accuracy: 0.8755 - val_loss: 0.5035 - val_accuracy: 0.8041\n",
      "Epoch 59/100\n",
      "2546/2546 [==============================] - 0s 44us/sample - loss: 0.3120 - accuracy: 0.8841 - val_loss: 0.4562 - val_accuracy: 0.8171\n",
      "Epoch 60/100\n",
      "2546/2546 [==============================] - 0s 45us/sample - loss: 0.3454 - accuracy: 0.8692 - val_loss: 0.4398 - val_accuracy: 0.8212\n",
      "Epoch 61/100\n",
      "2546/2546 [==============================] - 0s 43us/sample - loss: 0.3142 - accuracy: 0.8775 - val_loss: 0.4716 - val_accuracy: 0.8086\n",
      "Epoch 62/100\n",
      "2546/2546 [==============================] - 0s 46us/sample - loss: 0.2948 - accuracy: 0.8865 - val_loss: 0.5969 - val_accuracy: 0.7650\n",
      "Epoch 63/100\n",
      "2546/2546 [==============================] - 0s 45us/sample - loss: 0.3112 - accuracy: 0.8806 - val_loss: 0.5405 - val_accuracy: 0.8008\n",
      "Epoch 64/100\n",
      "2546/2546 [==============================] - 0s 46us/sample - loss: 0.3166 - accuracy: 0.8786 - val_loss: 0.4312 - val_accuracy: 0.8322\n",
      "Epoch 65/100\n",
      "2546/2546 [==============================] - 0s 44us/sample - loss: 0.2966 - accuracy: 0.8904 - val_loss: 0.4913 - val_accuracy: 0.7984\n",
      "Epoch 66/100\n",
      "2546/2546 [==============================] - 0s 42us/sample - loss: 0.3068 - accuracy: 0.8778 - val_loss: 0.4312 - val_accuracy: 0.8261\n",
      "Epoch 67/100\n",
      "2546/2546 [==============================] - 0s 48us/sample - loss: 0.2882 - accuracy: 0.8881 - val_loss: 0.4624 - val_accuracy: 0.8130\n",
      "Epoch 68/100\n",
      "2546/2546 [==============================] - 0s 74us/sample - loss: 0.2872 - accuracy: 0.8920 - val_loss: 0.4398 - val_accuracy: 0.8257\n",
      "Epoch 69/100\n",
      "2546/2546 [==============================] - 0s 60us/sample - loss: 0.2861 - accuracy: 0.8892 - val_loss: 0.4967 - val_accuracy: 0.8053\n",
      "Epoch 70/100\n",
      "2546/2546 [==============================] - 0s 46us/sample - loss: 0.3198 - accuracy: 0.8822 - val_loss: 0.5574 - val_accuracy: 0.7699\n",
      "Epoch 71/100\n",
      "2546/2546 [==============================] - 0s 47us/sample - loss: 0.3177 - accuracy: 0.8782 - val_loss: 0.4755 - val_accuracy: 0.8118\n",
      "Epoch 72/100\n",
      "2546/2546 [==============================] - 0s 45us/sample - loss: 0.3231 - accuracy: 0.8782 - val_loss: 0.4507 - val_accuracy: 0.8187\n",
      "Epoch 73/100\n",
      "2546/2546 [==============================] - 0s 44us/sample - loss: 0.3060 - accuracy: 0.8857 - val_loss: 0.4318 - val_accuracy: 0.8257\n",
      "Epoch 74/100\n",
      "2546/2546 [==============================] - 0s 42us/sample - loss: 0.2815 - accuracy: 0.8916 - val_loss: 0.4750 - val_accuracy: 0.8179\n",
      "Epoch 75/100\n",
      "2546/2546 [==============================] - 0s 42us/sample - loss: 0.2988 - accuracy: 0.8869 - val_loss: 0.4611 - val_accuracy: 0.8196\n",
      "Epoch 76/100\n",
      "2546/2546 [==============================] - 0s 44us/sample - loss: 0.3288 - accuracy: 0.8775 - val_loss: 0.6174 - val_accuracy: 0.7466\n",
      "Epoch 77/100\n",
      "2546/2546 [==============================] - 0s 43us/sample - loss: 0.3038 - accuracy: 0.8861 - val_loss: 0.4524 - val_accuracy: 0.8163\n",
      "Epoch 78/100\n",
      "2546/2546 [==============================] - 0s 43us/sample - loss: 0.2869 - accuracy: 0.8877 - val_loss: 0.4438 - val_accuracy: 0.8261\n",
      "Epoch 79/100\n",
      "2546/2546 [==============================] - 0s 46us/sample - loss: 0.2882 - accuracy: 0.8888 - val_loss: 0.5897 - val_accuracy: 0.7699\n",
      "Epoch 80/100\n",
      "2546/2546 [==============================] - 0s 45us/sample - loss: 0.2868 - accuracy: 0.8924 - val_loss: 0.4311 - val_accuracy: 0.8191\n",
      "Epoch 81/100\n",
      "2546/2546 [==============================] - 0s 45us/sample - loss: 0.2920 - accuracy: 0.8873 - val_loss: 0.4354 - val_accuracy: 0.8204\n",
      "Epoch 82/100\n",
      "2546/2546 [==============================] - 0s 44us/sample - loss: 0.2979 - accuracy: 0.8853 - val_loss: 0.5641 - val_accuracy: 0.7833\n",
      "Epoch 83/100\n",
      "2546/2546 [==============================] - 0s 42us/sample - loss: 0.2945 - accuracy: 0.8908 - val_loss: 0.4205 - val_accuracy: 0.8318\n",
      "Epoch 84/100\n",
      "2546/2546 [==============================] - 0s 44us/sample - loss: 0.2791 - accuracy: 0.8916 - val_loss: 0.4528 - val_accuracy: 0.8191\n",
      "Epoch 85/100\n",
      "2546/2546 [==============================] - 0s 41us/sample - loss: 0.2859 - accuracy: 0.8947 - val_loss: 0.4976 - val_accuracy: 0.8065\n",
      "Epoch 86/100\n",
      "2546/2546 [==============================] - 0s 44us/sample - loss: 0.2882 - accuracy: 0.8912 - val_loss: 0.5595 - val_accuracy: 0.7772\n",
      "Epoch 87/100\n",
      "2546/2546 [==============================] - 0s 43us/sample - loss: 0.3132 - accuracy: 0.8810 - val_loss: 0.4291 - val_accuracy: 0.8244\n",
      "Epoch 88/100\n",
      "2546/2546 [==============================] - 0s 65us/sample - loss: 0.2994 - accuracy: 0.8841 - val_loss: 0.6136 - val_accuracy: 0.7625\n",
      "Epoch 89/100\n",
      "2546/2546 [==============================] - 0s 60us/sample - loss: 0.2866 - accuracy: 0.8928 - val_loss: 0.4605 - val_accuracy: 0.8212\n",
      "Epoch 90/100\n",
      "2546/2546 [==============================] - 0s 46us/sample - loss: 0.2698 - accuracy: 0.8987 - val_loss: 0.4791 - val_accuracy: 0.8069\n",
      "Epoch 91/100\n",
      "2546/2546 [==============================] - 0s 54us/sample - loss: 0.2777 - accuracy: 0.8979 - val_loss: 0.5664 - val_accuracy: 0.7821\n",
      "Epoch 92/100\n",
      "2546/2546 [==============================] - 0s 64us/sample - loss: 0.2939 - accuracy: 0.8916 - val_loss: 0.4382 - val_accuracy: 0.8244\n",
      "Epoch 93/100\n",
      "2546/2546 [==============================] - 0s 46us/sample - loss: 0.2734 - accuracy: 0.8975 - val_loss: 0.4105 - val_accuracy: 0.8305\n",
      "Epoch 94/100\n",
      "2546/2546 [==============================] - 0s 44us/sample - loss: 0.2858 - accuracy: 0.8912 - val_loss: 0.4645 - val_accuracy: 0.8138\n",
      "Epoch 95/100\n",
      "2546/2546 [==============================] - 0s 44us/sample - loss: 0.2765 - accuracy: 0.8908 - val_loss: 0.5034 - val_accuracy: 0.8041\n",
      "Epoch 96/100\n",
      "2546/2546 [==============================] - 0s 47us/sample - loss: 0.2712 - accuracy: 0.8967 - val_loss: 0.4290 - val_accuracy: 0.8305\n",
      "Epoch 97/100\n",
      "2546/2546 [==============================] - 0s 46us/sample - loss: 0.3023 - accuracy: 0.8833 - val_loss: 0.4551 - val_accuracy: 0.8163\n",
      "Epoch 98/100\n",
      "2546/2546 [==============================] - 0s 46us/sample - loss: 0.2893 - accuracy: 0.8991 - val_loss: 0.4169 - val_accuracy: 0.8273\n",
      "Epoch 99/100\n",
      "2546/2546 [==============================] - 0s 53us/sample - loss: 0.2973 - accuracy: 0.8853 - val_loss: 0.4153 - val_accuracy: 0.8322\n",
      "Epoch 100/100\n",
      "2546/2546 [==============================] - 0s 48us/sample - loss: 0.2812 - accuracy: 0.8920 - val_loss: 0.4505 - val_accuracy: 0.8216\n"
     ]
    }
   ],
   "source": [
    "histry = model.fit(train_x, train_y, epochs=100,\n",
    "                    verbose=1,units\n",
    "                    batch_size=128,\n",
    "                    validation_data = (val_x,  val_y))"
   ]
  },
  {
   "cell_type": "code",
   "execution_count": 21,
   "metadata": {},
   "outputs": [
    {
     "name": "stdout",
     "output_type": "stream",
     "text": [
      "1552/1 - 0s - loss: 0.2502 - accuracy: 0.8840\n",
      "Restored model, accuracy: 88.40%\n"
     ]
    }
   ],
   "source": [
    "loss, acc = model.evaluate(test_x,  test_y, verbose=2)\n",
    "print(\"Restored model, accuracy: {:5.2f}%\".format(100*acc))"
   ]
  },
  {
   "cell_type": "code",
   "execution_count": 22,
   "metadata": {},
   "outputs": [
    {
     "data": {
      "text/plain": [
       "dict_keys(['loss', 'accuracy', 'val_loss', 'val_accuracy'])"
      ]
     },
     "execution_count": 22,
     "metadata": {},
     "output_type": "execute_result"
    }
   ],
   "source": [
    "history_dict = histry.history\n",
    "history_dict.keys()"
   ]
  },
  {
   "cell_type": "code",
   "execution_count": 23,
   "metadata": {},
   "outputs": [
    {
     "data": {
      "image/png": "[encoded data removed]",
      "text/plain": [
       "<Figure size 432x288 with 1 Axes>"
      ]
     },
     "metadata": {
      "needs_background": "light"
     },
     "output_type": "display_data"
    }
   ],
   "source": [
    "loss_values = history_dict['loss']\n",
    "val_loss_values = history_dict['val_loss']\n",
    "\n",
    "epochs = range(1, len(loss_values) + 1)\n",
    "\n",
    "plt.plot(epochs, loss_values, 'bo', label='Training loss')\n",
    "plt.plot(epochs, val_loss_values, 'b', label='Validation loss')\n",
    "plt.legend()\n",
    "plt.show()"
   ]
  },
  {
   "cell_type": "code",
   "execution_count": 24,
   "metadata": {},
   "outputs": [
    {
     "data": {
      "image/png": "[encoded data removed]",
      "text/plain": [
       "<Figure size 432x288 with 1 Axes>"
      ]
     },
     "metadata": {
      "needs_background": "light"
     },
     "output_type": "display_data"
    }
   ],
   "source": [
    "acc = history_dict['accuracy']\n",
    "val_acc = history_dict['val_accuracy']\n",
    "\n",
    "epochs = range(1, len(loss_values) + 1)\n",
    "\n",
    "plt.plot(epochs, acc, 'bo', label='Training acc')\n",
    "plt.plot(epochs, val_acc, 'b', label='Validation acc')\n",
    "plt.legend()\n",
    "plt.show()"
   ]
  },
  {
   "cell_type": "code",
   "execution_count": 25,
   "metadata": {},
   "outputs": [
    {
     "name": "stdout",
     "output_type": "stream",
     "text": [
      "[[290   0   0  35]\n",
      " [  4 272  23  35]\n",
      " [ 41  37 387   0]\n",
      " [  4   1   0 423]]\n"
     ]
    },
    {
     "data": {
      "image/png": "[encoded data removed]",
      "text/plain": [
       "<Figure size 864x504 with 2 Axes>"
      ]
     },
     "metadata": {
      "needs_background": "light"
     },
     "output_type": "display_data"
    }
   ],
   "source": [
    "import seaborn as sn\n",
    "\n",
    "predict_classes = model.predict_classes(test_x)\n",
    "true_classes = test_y\n",
    "print(confusion_matrix(true_classes, predict_classes))\n",
    "\n",
    "def print_cmx(y_true, y_pred):\n",
    "    labels = ['approach', 'leave', 'near', 'far']\n",
    "    cmx_data = confusion_matrix(y_true, y_pred)\n",
    "    \n",
    "    cmx_data = cmx_data.astype('float') / cmx_data.sum(axis=1)[:, np.newaxis]\n",
    "    \n",
    "    df_cmx = pd.DataFrame(cmx_data, index=labels, columns=labels)\n",
    " \n",
    "    plt.figure(figsize = (12,7))\n",
    "    sn.heatmap(df_cmx, annot=True, fmt='g', square = True, cmap='Blues')\n",
    "    plt.show()\n",
    " \n",
    "print_cmx(true_classes, predict_classes)"
   ]
  },
  {
   "cell_type": "code",
   "execution_count": 27,
   "metadata": {},
   "outputs": [
    {
     "data": {
      "text/html": [
       "<div>\n",
       "<style scoped>\n",
       "    .dataframe tbody tr th:only-of-type {\n",
       "        vertical-align: middle;\n",
       "    }\n",
       "\n",
       "    .dataframe tbody tr th {\n",
       "        vertical-align: top;\n",
       "    }\n",
       "\n",
       "    .dataframe thead th {\n",
       "        text-align: right;\n",
       "    }\n",
       "</style>\n",
       "<table border=\"1\" class=\"dataframe\">\n",
       "  <thead>\n",
       "    <tr style=\"text-align: right;\">\n",
       "      <th></th>\n",
       "      <th>適合率</th>\n",
       "      <th>再現率</th>\n",
       "      <th>F値</th>\n",
       "      <th>データ数</th>\n",
       "    </tr>\n",
       "  </thead>\n",
       "  <tbody>\n",
       "    <tr>\n",
       "      <th>approach</th>\n",
       "      <td>0.855457</td>\n",
       "      <td>0.892308</td>\n",
       "      <td>0.873494</td>\n",
       "      <td>325</td>\n",
       "    </tr>\n",
       "    <tr>\n",
       "      <th>leave</th>\n",
       "      <td>0.877419</td>\n",
       "      <td>0.814371</td>\n",
       "      <td>0.844720</td>\n",
       "      <td>334</td>\n",
       "    </tr>\n",
       "    <tr>\n",
       "      <th>near</th>\n",
       "      <td>0.943902</td>\n",
       "      <td>0.832258</td>\n",
       "      <td>0.884571</td>\n",
       "      <td>465</td>\n",
       "    </tr>\n",
       "    <tr>\n",
       "      <th>far</th>\n",
       "      <td>0.858012</td>\n",
       "      <td>0.988318</td>\n",
       "      <td>0.918567</td>\n",
       "      <td>428</td>\n",
       "    </tr>\n",
       "  </tbody>\n",
       "</table>\n",
       "</div>"
      ],
      "text/plain": [
       "               適合率       再現率        F値  データ数\n",
       "approach  0.855457  0.892308  0.873494   325\n",
       "leave     0.877419  0.814371  0.844720   334\n",
       "near      0.943902  0.832258  0.884571   465\n",
       "far       0.858012  0.988318  0.918567   428"
      ]
     },
     "execution_count": 27,
     "metadata": {},
     "output_type": "execute_result"
    }
   ],
   "source": [
    "from sklearn.metrics import precision_recall_fscore_support\n",
    "\n",
    "x=precision_recall_fscore_support(true_classes,predict_classes)\n",
    "\n",
    "data = {\"適合率\": list(x[0]),\n",
    "        \"再現率\":list(x[1]),\n",
    "        \"F値\":list(x[2]),\n",
    "       \"データ数\":list(x[3])}\n",
    "\n",
    "df = pd.DataFrame(data)\n",
    "df.index=[\"approach\",\"leave\",\"near\",\"far\"]\n",
    "df"
   ]
  },
  {
   "cell_type": "code",
   "execution_count": null,
   "metadata": {},
   "outputs": [],
   "source": []
  }
 ],
 "metadata": {
  "kernelspec": {
   "display_name": "Python 3",
   "language": "python",
   "name": "python3"
  },
  "language_info": {
   "codemirror_mode": {
    "name": "ipython",
    "version": 3
   },
   "file_extension": ".py",
   "mimetype": "text/x-python",
   "name": "python",
   "nbconvert_exporter": "python",
   "pygments_lexer": "ipython3",
   "version": "3.6.8"
  }
 },
 "nbformat": 4,
 "nbformat_minor": 4
}
